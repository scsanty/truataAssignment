{
 "cells": [
  {
   "cell_type": "code",
   "execution_count": 1,
   "id": "be2ff92e-46f0-41dd-af3a-3fdabce1b300",
   "metadata": {},
   "outputs": [
    {
     "name": "stdout",
     "output_type": "stream",
     "text": [
      "--2022-05-11 23:00:50--  https://raw.githubusercontent.com/stedy/Machine-Learning-with-R-datasets/master/groceries.csv\n",
      "Resolving raw.githubusercontent.com (raw.githubusercontent.com)... 185.199.110.133, 185.199.108.133, 185.199.111.133, ...\n",
      "Connecting to raw.githubusercontent.com (raw.githubusercontent.com)|185.199.110.133|:443... connected.\n",
      "HTTP request sent, awaiting response... 200 OK\n",
      "Length: 500843 (489K) [text/plain]\n",
      "Saving to: ‘groceries.csv.1’\n",
      "\n",
      "groceries.csv.1     100%[===================>] 489.10K  1.41MB/s    in 0.3s    \n",
      "\n",
      "2022-05-11 23:00:51 (1.41 MB/s) - ‘groceries.csv.1’ saved [500843/500843]\n",
      "\n"
     ]
    }
   ],
   "source": [
    "!wget https://raw.githubusercontent.com/stedy/Machine-Learning-with-R-datasets/master/groceries.csv"
   ]
  },
  {
   "cell_type": "code",
   "execution_count": 2,
   "id": "f342c0fa-a50b-45a6-a4c8-d03333ade3a2",
   "metadata": {},
   "outputs": [],
   "source": [
    "import pyspark"
   ]
  },
  {
   "cell_type": "code",
   "execution_count": 3,
   "id": "bed4d2bc-c0ba-4a92-8ef1-7dccf317271b",
   "metadata": {},
   "outputs": [],
   "source": [
    "# Creating the Apache spark context\n",
    "sc = pyspark.SparkContext.getOrCreate()\n",
    "sc.setLogLevel('WARN')"
   ]
  },
  {
   "cell_type": "code",
   "execution_count": 4,
   "id": "9161a5a9-1847-421a-b2f5-266edd7ccae4",
   "metadata": {},
   "outputs": [],
   "source": [
    "# Reading the csv file as a text file\n",
    "inputRDD = sc.textFile('groceries.csv')"
   ]
  },
  {
   "cell_type": "code",
   "execution_count": 5,
   "id": "9d643410-91dc-4a16-9edf-355bce3fcd81",
   "metadata": {},
   "outputs": [
    {
     "data": {
      "text/plain": [
       "[['citrus fruit', 'semi-finished bread', 'margarine', 'ready soups'],\n",
       " ['tropical fruit', 'yogurt', 'coffee'],\n",
       " ['whole milk'],\n",
       " ['pip fruit', 'yogurt', 'cream cheese ', 'meat spreads'],\n",
       " ['other vegetables',\n",
       "  'whole milk',\n",
       "  'condensed milk',\n",
       "  'long life bakery product']]"
      ]
     },
     "execution_count": 5,
     "metadata": {},
     "output_type": "execute_result"
    }
   ],
   "source": [
    "# Split the lines based on ',' delimiter, the split function consider new lines by default\n",
    "inputRDD.map(lambda x: x.split(sep=',')).take(5)"
   ]
  }
 ],
 "metadata": {
  "kernelspec": {
   "display_name": "Python 3 (ipykernel)",
   "language": "python",
   "name": "python3"
  },
  "language_info": {
   "codemirror_mode": {
    "name": "ipython",
    "version": 3
   },
   "file_extension": ".py",
   "mimetype": "text/x-python",
   "name": "python",
   "nbconvert_exporter": "python",
   "pygments_lexer": "ipython3",
   "version": "3.9.12"
  }
 },
 "nbformat": 4,
 "nbformat_minor": 5
}
