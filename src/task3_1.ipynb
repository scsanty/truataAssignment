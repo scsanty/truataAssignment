{
 "cells": [
  {
   "cell_type": "code",
   "execution_count": 1,
   "id": "0067f675-400d-4b9a-84a1-944251d12e32",
   "metadata": {},
   "outputs": [
    {
     "name": "stdout",
     "output_type": "stream",
     "text": [
      "--2022-05-12 16:07:58--  https://archive.ics.uci.edu/ml/machine-learning-databases/iris/iris.data\n",
      "Resolving archive.ics.uci.edu (archive.ics.uci.edu)... 128.195.10.252, 128.195.10.252\n",
      "Connecting to archive.ics.uci.edu (archive.ics.uci.edu)|128.195.10.252|:443... connected.\n",
      "HTTP request sent, awaiting response... 200 OK\n",
      "Length: 4551 (4.4K) [application/x-httpd-php]\n",
      "Saving to: ‘iris.csv’\n",
      "\n",
      "iris.csv            100%[===================>]   4.44K  --.-KB/s    in 0s      \n",
      "\n",
      "2022-05-12 16:07:59 (114 MB/s) - ‘iris.csv’ saved [4551/4551]\n",
      "\n"
     ]
    }
   ],
   "source": [
    "!wget -O iris.csv https://archive.ics.uci.edu/ml/machine-learning-databases/iris/iris.data "
   ]
  },
  {
   "cell_type": "code",
   "execution_count": 2,
   "id": "3bb19cbb-e605-4385-8a50-3c9cfdf07017",
   "metadata": {},
   "outputs": [],
   "source": [
    "import pyspark"
   ]
  },
  {
   "cell_type": "code",
   "execution_count": 3,
   "id": "ced53aad-39f4-47c8-a3db-268e42bd22c1",
   "metadata": {},
   "outputs": [],
   "source": [
    "# Creating the Apache spark SQL context\n",
    "spark = pyspark.sql.SparkSession.builder.getOrCreate()\n",
    "spark.sparkContext.setLogLevel('WARN')\n",
    "infile = 'iris.csv'"
   ]
  },
  {
   "cell_type": "code",
   "execution_count": 4,
   "id": "5296e32a-9500-4c96-9fc6-ad14040dc25e",
   "metadata": {},
   "outputs": [],
   "source": [
    "# Creating Struct for the schema of the csv file to be read\n",
    "_schema = pyspark.sql.types.StructType(\n",
    "        [pyspark.sql.types.StructField(\"sepal_length\", pyspark.sql.types.FloatType(), False),\n",
    "         pyspark.sql.types.StructField(\"sepal_width\", pyspark.sql.types.FloatType(), False),\n",
    "         pyspark.sql.types.StructField(\"petal_length\", pyspark.sql.types.FloatType(), False),\n",
    "         pyspark.sql.types.StructField(\"petal_width\", pyspark.sql.types.FloatType(), False),\n",
    "         pyspark.sql.types.StructField(\"class\", pyspark.sql.types.StringType(), False)\n",
    "         ])"
   ]
  },
  {
   "cell_type": "code",
   "execution_count": 5,
   "id": "47784ec3-0b81-4071-8685-19a7d5581fd1",
   "metadata": {},
   "outputs": [],
   "source": [
    "# Read the csv file, infering the aforementioned schema\n",
    "trainDF = spark.read.format(\"csv\") \\\n",
    "            .schema(_schema) \\\n",
    "            .load(infile)"
   ]
  },
  {
   "cell_type": "code",
   "execution_count": 6,
   "id": "4b90f3da-31c0-4f4c-a07d-4f0f1d3524ee",
   "metadata": {},
   "outputs": [
    {
     "name": "stdout",
     "output_type": "stream",
     "text": [
      "+------------+-----------+------------+-----------+-----------+\n",
      "|sepal_length|sepal_width|petal_length|petal_width|      class|\n",
      "+------------+-----------+------------+-----------+-----------+\n",
      "|         5.1|        3.5|         1.4|        0.2|Iris-setosa|\n",
      "|         4.9|        3.0|         1.4|        0.2|Iris-setosa|\n",
      "|         4.7|        3.2|         1.3|        0.2|Iris-setosa|\n",
      "|         4.6|        3.1|         1.5|        0.2|Iris-setosa|\n",
      "|         5.0|        3.6|         1.4|        0.2|Iris-setosa|\n",
      "|         5.4|        3.9|         1.7|        0.4|Iris-setosa|\n",
      "|         4.6|        3.4|         1.4|        0.3|Iris-setosa|\n",
      "|         5.0|        3.4|         1.5|        0.2|Iris-setosa|\n",
      "|         4.4|        2.9|         1.4|        0.2|Iris-setosa|\n",
      "|         4.9|        3.1|         1.5|        0.1|Iris-setosa|\n",
      "|         5.4|        3.7|         1.5|        0.2|Iris-setosa|\n",
      "|         4.8|        3.4|         1.6|        0.2|Iris-setosa|\n",
      "|         4.8|        3.0|         1.4|        0.1|Iris-setosa|\n",
      "|         4.3|        3.0|         1.1|        0.1|Iris-setosa|\n",
      "|         5.8|        4.0|         1.2|        0.2|Iris-setosa|\n",
      "|         5.7|        4.4|         1.5|        0.4|Iris-setosa|\n",
      "|         5.4|        3.9|         1.3|        0.4|Iris-setosa|\n",
      "|         5.1|        3.5|         1.4|        0.3|Iris-setosa|\n",
      "|         5.7|        3.8|         1.7|        0.3|Iris-setosa|\n",
      "|         5.1|        3.8|         1.5|        0.3|Iris-setosa|\n",
      "+------------+-----------+------------+-----------+-----------+\n",
      "only showing top 20 rows\n",
      "\n"
     ]
    }
   ],
   "source": [
    "trainDF.show()"
   ]
  }
 ],
 "metadata": {
  "kernelspec": {
   "display_name": "Python 3 (ipykernel)",
   "language": "python",
   "name": "python3"
  },
  "language_info": {
   "codemirror_mode": {
    "name": "ipython",
    "version": 3
   },
   "file_extension": ".py",
   "mimetype": "text/x-python",
   "name": "python",
   "nbconvert_exporter": "python",
   "pygments_lexer": "ipython3",
   "version": "3.9.12"
  }
 },
 "nbformat": 4,
 "nbformat_minor": 5
}
