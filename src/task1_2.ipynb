{
 "cells": [
  {
   "cell_type": "code",
   "execution_count": 1,
   "id": "f342c0fa-a50b-45a6-a4c8-d03333ade3a2",
   "metadata": {},
   "outputs": [],
   "source": [
    "import pyspark"
   ]
  },
  {
   "cell_type": "code",
   "execution_count": 2,
   "id": "ac19f4b0-4401-49b0-a8be-a09f887ff886",
   "metadata": {},
   "outputs": [],
   "source": [
    "outPath1 = '../out/out_1_2a.txt'\n",
    "outPath2 = '../out/out_1_2b.txt'"
   ]
  },
  {
   "cell_type": "code",
   "execution_count": 3,
   "id": "bed4d2bc-c0ba-4a92-8ef1-7dccf317271b",
   "metadata": {},
   "outputs": [],
   "source": [
    "# Creating the Apache spark context\n",
    "sc = pyspark.SparkContext.getOrCreate()\n",
    "sc.setLogLevel('WARN')"
   ]
  },
  {
   "cell_type": "code",
   "execution_count": 4,
   "id": "9161a5a9-1847-421a-b2f5-266edd7ccae4",
   "metadata": {},
   "outputs": [],
   "source": [
    "# Reading the csv file as a text file\n",
    "inputRDD = sc.textFile('groceries.csv')"
   ]
  },
  {
   "cell_type": "code",
   "execution_count": 5,
   "id": "9d643410-91dc-4a16-9edf-355bce3fcd81",
   "metadata": {},
   "outputs": [],
   "source": [
    "# Split the lines based on ',' delimiter, the split function consider new lines by default\n",
    "inputRDD = inputRDD.map(lambda x: x.split(sep=','))"
   ]
  },
  {
   "cell_type": "code",
   "execution_count": 6,
   "id": "5e052666-3e37-4cd6-8fef-8da6acf99ee1",
   "metadata": {},
   "outputs": [],
   "source": [
    "# flattening the RDD of lists to one RDD\n",
    "flatRDD = inputRDD.flatMap(lambda x: x)"
   ]
  },
  {
   "cell_type": "code",
   "execution_count": 7,
   "id": "34ae03f0-effd-4c19-941b-7bfc7cc47a47",
   "metadata": {},
   "outputs": [],
   "source": [
    "# Getting unique values\n",
    "finalRDD = flatRDD.distinct()"
   ]
  },
  {
   "cell_type": "code",
   "execution_count": 8,
   "id": "789b2bbb-d6d5-4bff-b6d7-532321e7a245",
   "metadata": {},
   "outputs": [],
   "source": [
    "# Since it is asked to output into a file. The outputs are collected dumps.\n",
    "# saveasTextFile(<path>) takes in path and creates file as part-0000..... files\n",
    "# Same goes for all the following exercise \n",
    "with open(outPath1, 'w') as f:\n",
    "    for item in finalRDD.collect():\n",
    "        f.write(item+'\\n')"
   ]
  },
  {
   "cell_type": "code",
   "execution_count": 9,
   "id": "5e3b91bd-fa82-47dd-826f-f4c24bce495f",
   "metadata": {},
   "outputs": [],
   "source": [
    "finalCount = flatRDD.count()"
   ]
  },
  {
   "cell_type": "code",
   "execution_count": 10,
   "id": "49d2ab1e-cfa2-473c-8610-939ba5029be4",
   "metadata": {},
   "outputs": [],
   "source": [
    "with open(outPath2, 'w') as f:\n",
    "    f.write('Count:\\n' + str(finalCount))"
   ]
  }
 ],
 "metadata": {
  "kernelspec": {
   "display_name": "Python 3 (ipykernel)",
   "language": "python",
   "name": "python3"
  },
  "language_info": {
   "codemirror_mode": {
    "name": "ipython",
    "version": 3
   },
   "file_extension": ".py",
   "mimetype": "text/x-python",
   "name": "python",
   "nbconvert_exporter": "python",
   "pygments_lexer": "ipython3",
   "version": "3.9.12"
  }
 },
 "nbformat": 4,
 "nbformat_minor": 5
}
