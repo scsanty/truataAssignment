{
 "cells": [
  {
   "cell_type": "code",
   "execution_count": 1,
   "id": "3bb19cbb-e605-4385-8a50-3c9cfdf07017",
   "metadata": {},
   "outputs": [],
   "source": [
    "import pyspark\n",
    "from pyspark.ml.classification import LogisticRegression\n",
    "from pyspark.ml.feature import VectorAssembler, StringIndexer, IndexToString\n",
    "from pyspark.ml import Pipeline\n",
    "from pyspark.mllib.linalg import Vectors"
   ]
  },
  {
   "cell_type": "code",
   "execution_count": 2,
   "id": "ced53aad-39f4-47c8-a3db-268e42bd22c1",
   "metadata": {},
   "outputs": [],
   "source": [
    "# Creating the Apache spark SQL context\n",
    "spark = pyspark.sql.SparkSession.builder.getOrCreate()\n",
    "spark.sparkContext.setLogLevel('WARN')\n",
    "infile = 'iris.csv'\n",
    "outfile = '../out/out_3_2.txt'"
   ]
  },
  {
   "cell_type": "code",
   "execution_count": 3,
   "id": "5296e32a-9500-4c96-9fc6-ad14040dc25e",
   "metadata": {},
   "outputs": [],
   "source": [
    "# Creating Struct for the schema of the csv file to be read\n",
    "_schema = pyspark.sql.types.StructType(\n",
    "        [pyspark.sql.types.StructField(\"sepal_length\", pyspark.sql.types.FloatType(), False),\n",
    "         pyspark.sql.types.StructField(\"sepal_width\", pyspark.sql.types.FloatType(), False),\n",
    "         pyspark.sql.types.StructField(\"petal_length\", pyspark.sql.types.FloatType(), False),\n",
    "         pyspark.sql.types.StructField(\"petal_width\", pyspark.sql.types.FloatType(), False),\n",
    "         pyspark.sql.types.StructField(\"class\", pyspark.sql.types.StringType(), False)\n",
    "         ])"
   ]
  },
  {
   "cell_type": "code",
   "execution_count": 4,
   "id": "47784ec3-0b81-4071-8685-19a7d5581fd1",
   "metadata": {},
   "outputs": [],
   "source": [
    "# Read the csv file, infering the aforementioned schema\n",
    "trainDF = spark.read.format(\"csv\") \\\n",
    "            .schema(_schema) \\\n",
    "            .load(infile)"
   ]
  },
  {
   "cell_type": "code",
   "execution_count": 5,
   "id": "ab629962-1c02-4234-96ee-a82bdf2df170",
   "metadata": {},
   "outputs": [],
   "source": [
    "# Convert the columns 'sepal_length','sepal_width','petal_length','petal_width' to Spark Dense Vectors under column 'features'\n",
    "vectorAssembler = VectorAssembler(inputCols=['sepal_length','sepal_width','petal_length','petal_width'], outputCol=\"features\")\n",
    "# Encode the class column into floating number to be able to perform mathematical calculations on it and placing it under column 'labels'\n",
    "labelIndexer = StringIndexer(inputCol=\"class\", outputCol=\"labels\").fit(trainDF)\n",
    "# Declaring the logistic regression class with max iteration as 100, as was seen in the code snippet in the question\n",
    "lr = LogisticRegression(featuresCol='features', labelCol='labels', maxIter=100, fitIntercept=True)\n",
    "# Decode the labels back to text class and place them under column 'predictedLabel'\n",
    "labelConverter = IndexToString(inputCol=\"prediction\", outputCol=\"predictedLabel\", labels=labelIndexer.labels)\n",
    "# Putting all the above items into a pipeline for ease of training and predictions\n",
    "pipeline = Pipeline(stages=[vectorAssembler, labelIndexer, lr, labelConverter])"
   ]
  },
  {
   "cell_type": "code",
   "execution_count": 6,
   "id": "a7dc40ac-9215-4ce9-b61a-64710dbbfd54",
   "metadata": {},
   "outputs": [],
   "source": [
    "# training the model with training data\n",
    "model = pipeline.fit(trainDF)"
   ]
  },
  {
   "cell_type": "code",
   "execution_count": 7,
   "id": "1359d159-addb-4e95-9672-bd54a85f3007",
   "metadata": {},
   "outputs": [],
   "source": [
    "# declaring the testing data dataframe\n",
    "predData = spark.createDataFrame(\n",
    "    [(5.1, 3.5, 1.4, 0.2),\n",
    "    (6.2, 3.4, 5.4, 2.3)],\n",
    "            ['sepal_length','sepal_width','petal_length','petal_width'])"
   ]
  },
  {
   "cell_type": "code",
   "execution_count": 8,
   "id": "ad4a5900-812e-406f-b0d3-9fb6cbccc1bb",
   "metadata": {},
   "outputs": [],
   "source": [
    "# predicting on the requested data\n",
    "predictions = model.transform(predData)"
   ]
  },
  {
   "cell_type": "code",
   "execution_count": 9,
   "id": "8ca6dafb-841d-4732-ae4d-7f80a32ab71d",
   "metadata": {},
   "outputs": [
    {
     "name": "stdout",
     "output_type": "stream",
     "text": [
      "+------------+-----------+------------+-----------+--------------+\n",
      "|sepal_length|sepal_width|petal_length|petal_width|predictedLabel|\n",
      "+------------+-----------+------------+-----------+--------------+\n",
      "|         5.1|        3.5|         1.4|        0.2|   Iris-setosa|\n",
      "|         6.2|        3.4|         5.4|        2.3|Iris-virginica|\n",
      "+------------+-----------+------------+-----------+--------------+\n",
      "\n"
     ]
    }
   ],
   "source": [
    "predictions[['sepal_length','sepal_width','petal_length','petal_width', 'predictedLabel']].show()"
   ]
  },
  {
   "cell_type": "code",
   "execution_count": 10,
   "id": "d0fc019a-74ae-40a2-a832-33b46dc426d8",
   "metadata": {},
   "outputs": [],
   "source": [
    "# Since it is asked to output into a file. The outputs are collected dumps.\n",
    "# .write().text(<path>) takes in path and creates file as part-0000..... files\n",
    "# Same goes for all the following exercise\n",
    "with open(outfile, 'w') as f:\n",
    "    for pred in predictions[['predictedLabel']].collect():\n",
    "        f.write(str(pred[0])+'\\n')"
   ]
  }
 ],
 "metadata": {
  "kernelspec": {
   "display_name": "Python 3 (ipykernel)",
   "language": "python",
   "name": "python3"
  },
  "language_info": {
   "codemirror_mode": {
    "name": "ipython",
    "version": 3
   },
   "file_extension": ".py",
   "mimetype": "text/x-python",
   "name": "python",
   "nbconvert_exporter": "python",
   "pygments_lexer": "ipython3",
   "version": "3.9.12"
  }
 },
 "nbformat": 4,
 "nbformat_minor": 5
}
