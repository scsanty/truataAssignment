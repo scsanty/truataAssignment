{
 "cells": [
  {
   "cell_type": "code",
   "execution_count": 1,
   "id": "75f22774-c77b-47f0-b819-05ac4ddc7565",
   "metadata": {},
   "outputs": [],
   "source": [
    "import pyspark\n",
    "import pyspark.sql.functions as F"
   ]
  },
  {
   "cell_type": "code",
   "execution_count": 2,
   "id": "b7ea8629-6a75-4506-a01d-cef0540e1a23",
   "metadata": {},
   "outputs": [],
   "source": [
    "# Creating the Apache spark SQL context\n",
    "spark = pyspark.sql.SparkSession.builder.getOrCreate()\n",
    "spark.sparkContext.setLogLevel('WARN')\n",
    "infile = 'sf-airbnb-clean.parquet'\n",
    "outfile = '../out/out_2_3.txt'"
   ]
  },
  {
   "cell_type": "code",
   "execution_count": 3,
   "id": "19df2171-fb69-4227-9a2c-af54d612e9dc",
   "metadata": {},
   "outputs": [],
   "source": [
    "inputDF = spark.read.parquet(infile)"
   ]
  },
  {
   "cell_type": "code",
   "execution_count": 4,
   "id": "fae9b438-5a49-41f5-ac84-87a64c612005",
   "metadata": {},
   "outputs": [
    {
     "name": "stdout",
     "output_type": "stream",
     "text": [
      "root\n",
      " |-- host_is_superhost: string (nullable = true)\n",
      " |-- cancellation_policy: string (nullable = true)\n",
      " |-- instant_bookable: string (nullable = true)\n",
      " |-- host_total_listings_count: double (nullable = true)\n",
      " |-- neighbourhood_cleansed: string (nullable = true)\n",
      " |-- latitude: double (nullable = true)\n",
      " |-- longitude: double (nullable = true)\n",
      " |-- property_type: string (nullable = true)\n",
      " |-- room_type: string (nullable = true)\n",
      " |-- accommodates: double (nullable = true)\n",
      " |-- bathrooms: double (nullable = true)\n",
      " |-- bedrooms: double (nullable = true)\n",
      " |-- beds: double (nullable = true)\n",
      " |-- bed_type: string (nullable = true)\n",
      " |-- minimum_nights: double (nullable = true)\n",
      " |-- number_of_reviews: double (nullable = true)\n",
      " |-- review_scores_rating: double (nullable = true)\n",
      " |-- review_scores_accuracy: double (nullable = true)\n",
      " |-- review_scores_cleanliness: double (nullable = true)\n",
      " |-- review_scores_checkin: double (nullable = true)\n",
      " |-- review_scores_communication: double (nullable = true)\n",
      " |-- review_scores_location: double (nullable = true)\n",
      " |-- review_scores_value: double (nullable = true)\n",
      " |-- price: double (nullable = true)\n",
      " |-- bedrooms_na: double (nullable = true)\n",
      " |-- bathrooms_na: double (nullable = true)\n",
      " |-- beds_na: double (nullable = true)\n",
      " |-- review_scores_rating_na: double (nullable = true)\n",
      " |-- review_scores_accuracy_na: double (nullable = true)\n",
      " |-- review_scores_cleanliness_na: double (nullable = true)\n",
      " |-- review_scores_checkin_na: double (nullable = true)\n",
      " |-- review_scores_communication_na: double (nullable = true)\n",
      " |-- review_scores_location_na: double (nullable = true)\n",
      " |-- review_scores_value_na: double (nullable = true)\n",
      "\n"
     ]
    }
   ],
   "source": [
    "inputDF.printSchema()"
   ]
  },
  {
   "cell_type": "code",
   "execution_count": 5,
   "id": "01be26be-c7b2-4db1-a77e-2857c68b4140",
   "metadata": {},
   "outputs": [],
   "source": [
    "# Filter the dataframe to prices greater than 5000 and review_scores as 10.0\n",
    "filterDF = inputDF.filter((inputDF.price >= 5000) & (inputDF.review_scores_value == 10.0))"
   ]
  },
  {
   "cell_type": "code",
   "execution_count": 6,
   "id": "cbc1b90f-880b-4bf5-9b8b-600ad300edcc",
   "metadata": {},
   "outputs": [],
   "source": [
    "finalDF = filterDF \\\n",
    "    .agg(\n",
    "        F.mean('bathrooms').alias('avg_bathrooms'), # Aggregating the average of the column 'bathrooms'\n",
    "        F.mean('bedrooms').alias('avg_bathrooms')   # Aggregating the average of the column 'bedrooms'\n",
    "    )"
   ]
  },
  {
   "cell_type": "code",
   "execution_count": 7,
   "id": "ec1615a8-a430-4bce-a240-0aa76d43e239",
   "metadata": {},
   "outputs": [
    {
     "name": "stdout",
     "output_type": "stream",
     "text": [
      "+-------------+-------------+\n",
      "|avg_bathrooms|avg_bathrooms|\n",
      "+-------------+-------------+\n",
      "|        2.375|          3.0|\n",
      "+-------------+-------------+\n",
      "\n"
     ]
    }
   ],
   "source": [
    "finalDF.show()"
   ]
  },
  {
   "cell_type": "code",
   "execution_count": 8,
   "id": "8b30b62e-2459-40e2-9d5f-bc14bf49e91a",
   "metadata": {},
   "outputs": [],
   "source": [
    "# Since it is asked to output into a file. The outputs are collected dumps.\n",
    "# .write().text(<path>) takes in path and creates file as part-0000..... files\n",
    "# Same goes for all the following exercise \n",
    "with open(outfile, 'w') as f:\n",
    "    f.write(str(finalDF.collect()[0]))"
   ]
  }
 ],
 "metadata": {
  "kernelspec": {
   "display_name": "Python 3 (ipykernel)",
   "language": "python",
   "name": "python3"
  },
  "language_info": {
   "codemirror_mode": {
    "name": "ipython",
    "version": 3
   },
   "file_extension": ".py",
   "mimetype": "text/x-python",
   "name": "python",
   "nbconvert_exporter": "python",
   "pygments_lexer": "ipython3",
   "version": "3.9.12"
  }
 },
 "nbformat": 4,
 "nbformat_minor": 5
}
